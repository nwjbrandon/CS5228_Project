{
 "cells": [
  {
   "cell_type": "code",
   "execution_count": null,
   "metadata": {},
   "outputs": [],
   "source": [
    "import pandas as pd\n",
    "from geopy.distance import geodesic\n",
    "from pandarallel import pandarallel\n",
    "import gmaps"
   ]
  },
  {
   "cell_type": "code",
   "execution_count": null,
   "metadata": {},
   "outputs": [],
   "source": [
    "pandarallel.initialize(nb_workers=10)"
   ]
  },
  {
   "cell_type": "code",
   "execution_count": null,
   "metadata": {},
   "outputs": [],
   "source": [
    "df_train = pd.read_csv('train.csv')\n",
    "df_test = pd.read_csv('test.csv')\n",
    "\n",
    "df_train = df_train.reset_index(drop=False)\n",
    "df_test = df_test.reset_index(drop=False)"
   ]
  },
  {
   "cell_type": "markdown",
   "metadata": {},
   "source": [
    "# Integrate auxiliary data"
   ]
  },
  {
   "cell_type": "code",
   "execution_count": null,
   "metadata": {},
   "outputs": [],
   "source": [
    "df_mrt_existing = pd.read_csv('auxiliary-data/sg-mrt-existing-stations.csv')\n",
    "df_mrt_planned = pd.read_csv('auxiliary-data/sg-mrt-planned-stations.csv')\n",
    "df_primary_school = pd.read_csv('auxiliary-data/sg-primary-schools.csv')\n",
    "df_shopping_mall = pd.read_csv('auxiliary-data/sg-shopping-malls.csv')\n",
    "\n",
    "df_mrt_existing = df_mrt_existing[['name','latitude','longitude']]\n",
    "df_mrt_planned = df_mrt_planned[['name','latitude','longitude']]"
   ]
  },
  {
   "cell_type": "code",
   "execution_count": null,
   "metadata": {},
   "outputs": [],
   "source": [
    "print('number of existing mrt stations: ', len(df_mrt_existing))\n",
    "print('number of planned mrt stations: ', len(df_mrt_planned))\n",
    "print('number of primary schools: ', len(df_primary_school))\n",
    "print('number of shopping malls: ', len(df_shopping_mall))"
   ]
  },
  {
   "cell_type": "code",
   "execution_count": null,
   "metadata": {},
   "outputs": [],
   "source": [
    "df_mrt_existing.isnull().sum()"
   ]
  },
  {
   "cell_type": "code",
   "execution_count": null,
   "metadata": {},
   "outputs": [],
   "source": [
    "df_mrt_planned.isnull().sum()"
   ]
  },
  {
   "cell_type": "code",
   "execution_count": null,
   "metadata": {},
   "outputs": [],
   "source": [
    "df_primary_school.isnull().sum()"
   ]
  },
  {
   "cell_type": "code",
   "execution_count": null,
   "metadata": {},
   "outputs": [],
   "source": [
    "df_shopping_mall.isnull().sum()"
   ]
  },
  {
   "cell_type": "code",
   "execution_count": null,
   "metadata": {},
   "outputs": [],
   "source": [
    "def find_min_and_second_smallest(group):\n",
    "    min_value = group.min()\n",
    "    second_min_value = group.loc[group > min_value].min()\n",
    "    return min_value, second_min_value"
   ]
  },
  {
   "cell_type": "code",
   "execution_count": null,
   "metadata": {},
   "outputs": [],
   "source": [
    "def nearest_mrt(df_base, df_mrt):\n",
    "    df_base['key'] = 0\n",
    "    df_mrt['key'] = 0\n",
    "    df_merge = pd.merge(df_base, df_mrt, on='key', how='outer')\n",
    "    df_merge['distance'] = df_merge.parallel_apply(lambda row: geodesic((row['latitude_x'],row['longitude_x']), (row['latitude_y'],row['longitude_y'])).m, axis=1)\n",
    "    df_merge = df_merge[['index','distance']]\n",
    "    df_nearest = df_merge.groupby('index')['distance'].apply(find_min_and_second_smallest)\n",
    "    df_nearest = df_nearest.reset_index()\n",
    "    df_nearest[['first_mrt_distance', 'second_mrt_distance']] = df_nearest['distance'].apply(lambda x: pd.Series(x))\n",
    "    df_first = pd.merge(df_merge, df_nearest[['index','first_mrt_distance']], left_on=['index','distance'], right_on=['index','first_mrt_distance'], how='inner')\n",
    "    df_second = pd.merge(df_merge, df_nearest[['index','second_mrt_distance']], left_on=['index','distance'], right_on=['index','second_mrt_distance'], how='inner')\n",
    "    df_first = df_first.groupby(['index', 'distance']).count().reset_index()\n",
    "    df_second = df_second.groupby(['index', 'distance']).count().reset_index()\n",
    "    df_result = pd.merge(df_first, df_second, on='index', how='inner')\n",
    "    df_result = df_result.rename(columns={'distance_x':'first_mrt_distance', 'first_mrt_distance':'first_mrt_lines', 'distance_y':'second_mrt_distance', 'second_mrt_distance':'second_mrt_lines'})\n",
    "    return df_result"
   ]
  },
  {
   "cell_type": "code",
   "execution_count": null,
   "metadata": {},
   "outputs": [],
   "source": [
    "def nearest_amenity(df_base, df_amenity):\n",
    "    df_base['key'] = 0\n",
    "    df_amenity['key'] = 0\n",
    "    df_merge = pd.merge(df_base, df_amenity, on='key', how='outer')\n",
    "    df_merge['distance'] = df_merge.parallel_apply(lambda row: geodesic((row['latitude_x'],row['longitude_x']), (row['latitude_y'],row['longitude_y'])).m, axis=1)\n",
    "    df_merge = df_merge[['index','name','distance']]\n",
    "    df_nearest = df_merge.groupby('index')['distance'].apply(find_min_and_second_smallest)\n",
    "    df_nearest = df_nearest.reset_index()\n",
    "    df_nearest[['first_amenity_distance', 'second_amenity_distance']] = df_nearest['distance'].apply(lambda x: pd.Series(x))\n",
    "    df_first = pd.merge(df_merge, df_nearest[['index','first_amenity_distance']], left_on=['index','distance'], right_on=['index','first_amenity_distance'], how='inner')\n",
    "    df_second = pd.merge(df_merge, df_nearest[['index','second_amenity_distance']], left_on=['index','distance'], right_on=['index','second_amenity_distance'], how='inner')\n",
    "    df_result = pd.merge(df_first, df_second, on='index', how='inner')\n",
    "    df_result = df_result.rename(columns={'name_x':'first_amenity_name', 'name_y':'second_amenity_name'})\n",
    "    df_result = df_result[['index','first_amenity_name','first_amenity_distance','second_amenity_name','second_amenity_distance']]\n",
    "    return df_result"
   ]
  },
  {
   "cell_type": "code",
   "execution_count": null,
   "metadata": {},
   "outputs": [],
   "source": [
    "def integrate(df, df_mrt_existing, df_mrt_planned, df_primary_school, df_shopping_mall):\n",
    "    df_base = df[['index','latitude','longitude']]\n",
    "\n",
    "    nearest_existing_mrt = nearest_mrt(df_base.copy(), df_mrt_existing.copy())\n",
    "    nearest_planned_mrt = nearest_mrt(df_base.copy(), df_mrt_planned.copy())\n",
    "    nearest_primary_school = nearest_amenity(df_base.copy(), df_primary_school.copy())\n",
    "    nearest_shopping_mall = nearest_amenity(df_base.copy(), df_shopping_mall.copy())\n",
    "\n",
    "    nearest_existing_mrt = nearest_existing_mrt.rename(columns={'first_mrt_distance':'first_existing_mrt_distance', 'first_mrt_lines':'first_existing_mrt_lines',\n",
    "                                                                'second_mrt_distance':'second_existing_mrt_distance', 'second_mrt_lines':'second_existing_mrt_lines'})\n",
    "    nearest_planned_mrt = nearest_planned_mrt.rename(columns={'first_mrt_distance':'first_planned_mrt_distance', 'first_mrt_lines':'first_planned_mrt_lines',\n",
    "                                                                'second_mrt_distance':'second_planned_mrt_distance', 'second_mrt_lines':'second_planned_mrt_lines'})\n",
    "    nearest_primary_school = nearest_primary_school.rename(columns={'first_amenity_name':'first_school_name', 'first_amenity_distance':'first_school_distance',\n",
    "                                                                    'second_amenity_name':'second_school_name', 'second_amenity_distance':'second_school_distance'})\n",
    "    nearest_shopping_mall = nearest_shopping_mall.rename(columns={'first_amenity_name':'first_mall_name', 'first_amenity_distance':'first_mall_distance',\n",
    "                                                                    'second_amenity_name':'second_mall_name', 'second_amenity_distance':'second_mall_distance'})\n",
    "\n",
    "    df = pd.merge(df, nearest_existing_mrt, on='index', how='inner')\n",
    "    df = pd.merge(df, nearest_planned_mrt, on='index', how='inner')\n",
    "    df = pd.merge(df, nearest_primary_school, on='index', how='inner')\n",
    "    df = pd.merge(df, nearest_shopping_mall, on='index', how='inner')\n",
    "\n",
    "    return df"
   ]
  },
  {
   "cell_type": "code",
   "execution_count": null,
   "metadata": {},
   "outputs": [],
   "source": [
    "df_train = integrate(df_train.copy(), df_mrt_existing, df_mrt_planned, df_primary_school, df_shopping_mall)\n",
    "df_test = integrate(df_test.copy(), df_mrt_existing, df_mrt_planned, df_primary_school, df_shopping_mall)\n",
    "\n",
    "df_train.to_csv('integrated_train.csv', index=False)\n",
    "df_test.to_csv('integrated_test.csv', index=False)"
   ]
  },
  {
   "cell_type": "markdown",
   "metadata": {},
   "source": [
    "# Generate heat map"
   ]
  },
  {
   "cell_type": "code",
   "execution_count": 18,
   "metadata": {},
   "outputs": [],
   "source": [
    "gmaps.configure(api_key='')"
   ]
  },
  {
   "cell_type": "code",
   "execution_count": 19,
   "metadata": {},
   "outputs": [],
   "source": [
    "locations = df_train[['latitude', 'longitude']]\n",
    "price = df_train['monthly_rent']"
   ]
  },
  {
   "cell_type": "code",
   "execution_count": 20,
   "metadata": {},
   "outputs": [
    {
     "data": {
      "application/vnd.jupyter.widget-view+json": {
       "model_id": "90e5618724a6471c8ab7191141422420",
       "version_major": 2,
       "version_minor": 0
      },
      "text/plain": [
       "Figure(layout=FigureLayout(height='420px'))"
      ]
     },
     "metadata": {},
     "output_type": "display_data"
    }
   ],
   "source": [
    "fig = gmaps.figure() \n",
    "heatmap_layer = gmaps.heatmap_layer(locations, weights=price) \n",
    "fig.add_layer(heatmap_layer)\n",
    "fig"
   ]
  },
  {
   "cell_type": "code",
   "execution_count": null,
   "metadata": {},
   "outputs": [],
   "source": []
  }
 ],
 "metadata": {
  "kernelspec": {
   "display_name": "Python 3",
   "language": "python",
   "name": "python3"
  },
  "language_info": {
   "codemirror_mode": {
    "name": "ipython",
    "version": 3
   },
   "file_extension": ".py",
   "mimetype": "text/x-python",
   "name": "python",
   "nbconvert_exporter": "python",
   "pygments_lexer": "ipython3",
   "version": "3.9.7"
  },
  "orig_nbformat": 4
 },
 "nbformat": 4,
 "nbformat_minor": 2
}
