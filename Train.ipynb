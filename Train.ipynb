{
 "cells": [
  {
   "cell_type": "code",
   "execution_count": null,
   "metadata": {},
   "outputs": [],
   "source": [
    "import pandas as pd\n",
    "import numpy as np\n",
    "from sklearn.ensemble import (\n",
    "    RandomForestRegressor, \n",
    "    AdaBoostRegressor, \n",
    "    ExtraTreesRegressor, \n",
    "    GradientBoostingRegressor, \n",
    "    HistGradientBoostingRegressor\n",
    ")\n",
    "from sklearn.model_selection import train_test_split\n",
    "from sklearn.metrics import mean_absolute_error\n"
   ]
  },
  {
   "cell_type": "code",
   "execution_count": null,
   "metadata": {},
   "outputs": [],
   "source": [
    "X, y = np.load(\"X_train.npy\"), np.load(\"y_train.npy\")\n",
    "X_train, X_test, y_train, y_test = train_test_split(X, y, test_size=0.20, random_state=42)\n",
    "\n",
    "models = [\n",
    "    RandomForestRegressor, \n",
    "    AdaBoostRegressor, \n",
    "    ExtraTreesRegressor, \n",
    "    GradientBoostingRegressor, \n",
    "]\n",
    "for i, model in enumerate(models):\n",
    "    regressor = model(n_estimators=128, random_state=42)\n",
    "    regressor.fit(X_train, y_train)\n",
    "    y_pred = regressor.predict(X_test)\n",
    "    print(\"Model: \", i, \"MSE:\", mean_absolute_error(y_pred, y_test))"
   ]
  },
  {
   "cell_type": "code",
   "execution_count": 3,
   "metadata": {},
   "outputs": [],
   "source": [
    "regressor = GradientBoostingRegressor(n_estimators=128, random_state=42)\n",
    "regressor.fit(X, y)"
   ]
  },
  {
   "cell_type": "code",
   "execution_count": null,
   "metadata": {},
   "outputs": [],
   "source": [
    "X, y = np.load(\"X_test.npy\"), np.load(\"y_test.npy\")\n",
    "\n",
    "y_pred = regressor.predict(X)\n",
    "df = pd.DataFrame({\n",
    "    \"Id\": [i for i in range(len(y_pred))],\n",
    "    \"Predicted\": y_pred,\n",
    "})\n",
    "df.to_csv(\"out.csv\", index=False, sep=\",\")"
   ]
  }
 ],
 "metadata": {
  "kernelspec": {
   "display_name": "nus",
   "language": "python",
   "name": "python3"
  },
  "language_info": {
   "codemirror_mode": {
    "name": "ipython",
    "version": 3
   },
   "file_extension": ".py",
   "mimetype": "text/x-python",
   "name": "python",
   "nbconvert_exporter": "python",
   "pygments_lexer": "ipython3",
   "version": "3.10.13"
  },
  "orig_nbformat": 4
 },
 "nbformat": 4,
 "nbformat_minor": 2
}
