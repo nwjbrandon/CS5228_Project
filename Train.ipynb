{
 "cells": [
  {
   "cell_type": "code",
   "execution_count": 1,
   "metadata": {},
   "outputs": [],
   "source": [
    "# Import libraries\n",
    "import pandas as pd\n",
    "import numpy as np\n",
    "import matplotlib.pyplot as plt\n",
    "import seaborn as sns\n",
    "from sklearn.ensemble import RandomForestRegressor\n",
    "from sklearn.preprocessing import OneHotEncoder\n",
    "from sklearn.model_selection import train_test_split\n",
    "from sklearn.metrics import mean_absolute_error, mean_squared_error, mean_absolute_percentage_error\n",
    "import geopy.distance\n",
    "from tqdm import tqdm\n"
   ]
  },
  {
   "cell_type": "code",
   "execution_count": 2,
   "metadata": {},
   "outputs": [
    {
     "data": {
      "text/html": [
       "<div>\n",
       "<style scoped>\n",
       "    .dataframe tbody tr th:only-of-type {\n",
       "        vertical-align: middle;\n",
       "    }\n",
       "\n",
       "    .dataframe tbody tr th {\n",
       "        vertical-align: top;\n",
       "    }\n",
       "\n",
       "    .dataframe thead th {\n",
       "        text-align: right;\n",
       "    }\n",
       "</style>\n",
       "<table border=\"1\" class=\"dataframe\">\n",
       "  <thead>\n",
       "    <tr style=\"text-align: right;\">\n",
       "      <th></th>\n",
       "      <th>rent_approval_date</th>\n",
       "      <th>town</th>\n",
       "      <th>block</th>\n",
       "      <th>street_name</th>\n",
       "      <th>flat_type</th>\n",
       "      <th>flat_model</th>\n",
       "      <th>floor_area_sqm</th>\n",
       "      <th>furnished</th>\n",
       "      <th>lease_commence_date</th>\n",
       "      <th>latitude</th>\n",
       "      <th>longitude</th>\n",
       "      <th>elevation</th>\n",
       "      <th>subzone</th>\n",
       "      <th>planning_area</th>\n",
       "      <th>region</th>\n",
       "      <th>monthly_rent</th>\n",
       "    </tr>\n",
       "  </thead>\n",
       "  <tbody>\n",
       "    <tr>\n",
       "      <th>0</th>\n",
       "      <td>2021-09</td>\n",
       "      <td>jurong east</td>\n",
       "      <td>257</td>\n",
       "      <td>Jurong East Street 24</td>\n",
       "      <td>3 room</td>\n",
       "      <td>new generation</td>\n",
       "      <td>67.0</td>\n",
       "      <td>yes</td>\n",
       "      <td>1983</td>\n",
       "      <td>1.344518</td>\n",
       "      <td>103.738630</td>\n",
       "      <td>0.0</td>\n",
       "      <td>yuhua east</td>\n",
       "      <td>jurong east</td>\n",
       "      <td>west region</td>\n",
       "      <td>1600</td>\n",
       "    </tr>\n",
       "    <tr>\n",
       "      <th>1</th>\n",
       "      <td>2022-05</td>\n",
       "      <td>bedok</td>\n",
       "      <td>119</td>\n",
       "      <td>bedok north road</td>\n",
       "      <td>4-room</td>\n",
       "      <td>new generation</td>\n",
       "      <td>92.0</td>\n",
       "      <td>yes</td>\n",
       "      <td>1978</td>\n",
       "      <td>1.330186</td>\n",
       "      <td>103.938717</td>\n",
       "      <td>0.0</td>\n",
       "      <td>bedok north</td>\n",
       "      <td>bedok</td>\n",
       "      <td>east region</td>\n",
       "      <td>2250</td>\n",
       "    </tr>\n",
       "    <tr>\n",
       "      <th>2</th>\n",
       "      <td>2022-10</td>\n",
       "      <td>toa payoh</td>\n",
       "      <td>157</td>\n",
       "      <td>lorong 1 toa payoh</td>\n",
       "      <td>3-room</td>\n",
       "      <td>improved</td>\n",
       "      <td>67.0</td>\n",
       "      <td>yes</td>\n",
       "      <td>1971</td>\n",
       "      <td>1.332242</td>\n",
       "      <td>103.845643</td>\n",
       "      <td>0.0</td>\n",
       "      <td>toa payoh central</td>\n",
       "      <td>toa payoh</td>\n",
       "      <td>central region</td>\n",
       "      <td>1900</td>\n",
       "    </tr>\n",
       "    <tr>\n",
       "      <th>3</th>\n",
       "      <td>2021-08</td>\n",
       "      <td>pasir ris</td>\n",
       "      <td>250</td>\n",
       "      <td>Pasir Ris Street 21</td>\n",
       "      <td>executive</td>\n",
       "      <td>apartment</td>\n",
       "      <td>149.0</td>\n",
       "      <td>yes</td>\n",
       "      <td>1993</td>\n",
       "      <td>1.370239</td>\n",
       "      <td>103.962894</td>\n",
       "      <td>0.0</td>\n",
       "      <td>pasir ris drive</td>\n",
       "      <td>pasir ris</td>\n",
       "      <td>east region</td>\n",
       "      <td>2850</td>\n",
       "    </tr>\n",
       "    <tr>\n",
       "      <th>4</th>\n",
       "      <td>2022-11</td>\n",
       "      <td>kallang/whampoa</td>\n",
       "      <td>34</td>\n",
       "      <td>Whampoa West</td>\n",
       "      <td>3-room</td>\n",
       "      <td>improved</td>\n",
       "      <td>68.0</td>\n",
       "      <td>yes</td>\n",
       "      <td>1972</td>\n",
       "      <td>1.320502</td>\n",
       "      <td>103.863341</td>\n",
       "      <td>0.0</td>\n",
       "      <td>bendemeer</td>\n",
       "      <td>kallang</td>\n",
       "      <td>central region</td>\n",
       "      <td>2100</td>\n",
       "    </tr>\n",
       "  </tbody>\n",
       "</table>\n",
       "</div>"
      ],
      "text/plain": [
       "  rent_approval_date             town block            street_name  flat_type  \\\n",
       "0            2021-09      jurong east   257  Jurong East Street 24     3 room   \n",
       "1            2022-05            bedok   119       bedok north road     4-room   \n",
       "2            2022-10        toa payoh   157     lorong 1 toa payoh     3-room   \n",
       "3            2021-08        pasir ris   250    Pasir Ris Street 21  executive   \n",
       "4            2022-11  kallang/whampoa    34           Whampoa West     3-room   \n",
       "\n",
       "       flat_model  floor_area_sqm furnished  lease_commence_date  latitude  \\\n",
       "0  new generation            67.0       yes                 1983  1.344518   \n",
       "1  new generation            92.0       yes                 1978  1.330186   \n",
       "2        improved            67.0       yes                 1971  1.332242   \n",
       "3       apartment           149.0       yes                 1993  1.370239   \n",
       "4        improved            68.0       yes                 1972  1.320502   \n",
       "\n",
       "    longitude  elevation            subzone planning_area          region  \\\n",
       "0  103.738630        0.0         yuhua east   jurong east     west region   \n",
       "1  103.938717        0.0        bedok north         bedok     east region   \n",
       "2  103.845643        0.0  toa payoh central     toa payoh  central region   \n",
       "3  103.962894        0.0    pasir ris drive     pasir ris     east region   \n",
       "4  103.863341        0.0          bendemeer       kallang  central region   \n",
       "\n",
       "   monthly_rent  \n",
       "0          1600  \n",
       "1          2250  \n",
       "2          1900  \n",
       "3          2850  \n",
       "4          2100  "
      ]
     },
     "execution_count": 2,
     "metadata": {},
     "output_type": "execute_result"
    }
   ],
   "source": [
    "df_train = pd.read_csv(\"train.csv\")\n",
    "df_train.head()"
   ]
  },
  {
   "cell_type": "code",
   "execution_count": 3,
   "metadata": {},
   "outputs": [],
   "source": [
    "def compute_distance(pt_a, pts):\n",
    "    res = []\n",
    "    for pt in pts:\n",
    "        dis = geopy.distance.distance(pt, pt_a).km\n",
    "        res.append(dis)\n",
    "    return res\n",
    "\n",
    "df_existing_mrt = pd.read_csv(\"auxiliary-data/auxiliary-data/sg-mrt-existing-stations.csv\")\n",
    "def get_distance_to_existing_station(df, k=1):\n",
    "    latitude = np.array(df_existing_mrt[\"latitude\"]).reshape(-1, 1)\n",
    "    longitude = np.array(df_existing_mrt[\"longitude\"]).reshape(-1, 1)\n",
    "    pts = np.hstack([latitude, longitude])\n",
    "\n",
    "    res = []\n",
    "    for i in tqdm(range(len(df))):\n",
    "        row = df.iloc[i]\n",
    "        pt_a = (row[\"latitude\"], row[\"longitude\"])\n",
    "        distances = compute_distance(pt_a, pts)\n",
    "        res.append([np.min(distances),])\n",
    "\n",
    "    res = np.array(res)    \n",
    "    return res"
   ]
  },
  {
   "cell_type": "code",
   "execution_count": 4,
   "metadata": {},
   "outputs": [
    {
     "name": "stderr",
     "output_type": "stream",
     "text": [
      "100%|██████████| 60000/60000 [10:11<00:00, 98.17it/s]\n"
     ]
    },
    {
     "data": {
      "text/plain": [
       "((60000, 90), (60000,))"
      ]
     },
     "execution_count": 4,
     "metadata": {},
     "output_type": "execute_result"
    }
   ],
   "source": [
    "town_encoder = OneHotEncoder()\n",
    "flat_type_encoder = OneHotEncoder()\n",
    "flat_model_encoder = OneHotEncoder()\n",
    "planning_area_encoder = OneHotEncoder()\n",
    "region_encoder = OneHotEncoder()\n",
    "\n",
    "def preprocess(df, is_train):\n",
    "    if is_train:\n",
    "        town = town_encoder.fit_transform(np.array(df[\"town\"]).reshape(-1, 1)).toarray()\n",
    "        flat_type = flat_type_encoder.fit_transform(np.array(df[\"flat_type\"]).reshape(-1, 1)).toarray()\n",
    "        flat_model = flat_model_encoder.fit_transform(np.array(df[\"flat_model\"]).reshape(-1, 1)).toarray()\n",
    "        floor_area_sqm = np.array(df[\"floor_area_sqm\"]).reshape(-1, 1)\n",
    "        planning_area = planning_area_encoder.fit_transform(np.array(df[\"planning_area\"]).reshape(-1, 1)).toarray()\n",
    "        region = region_encoder.fit_transform(np.array(df[\"region\"]).reshape(-1, 1)).toarray()\n",
    "        distance_to_existing_station = get_distance_to_existing_station(df, k=1)\n",
    "    else:\n",
    "        town = town_encoder.transform(np.array(df[\"town\"]).reshape(-1, 1)).toarray()\n",
    "        flat_type = flat_type_encoder.transform(np.array(df[\"flat_type\"]).reshape(-1, 1)).toarray()\n",
    "        flat_model = flat_model_encoder.transform(np.array(df[\"flat_model\"]).reshape(-1, 1)).toarray()\n",
    "        floor_area_sqm = np.array(df[\"floor_area_sqm\"]).reshape(-1, 1)\n",
    "        planning_area = planning_area_encoder.transform(np.array(df[\"planning_area\"]).reshape(-1, 1)).toarray()\n",
    "        region = region_encoder.transform(np.array(df[\"region\"]).reshape(-1, 1)).toarray()\n",
    "        distance_to_existing_station = get_distance_to_existing_station(df, k=1)\n",
    "\n",
    "    features = [\n",
    "        town, \n",
    "        flat_type, \n",
    "        flat_model, \n",
    "        floor_area_sqm, \n",
    "        planning_area, \n",
    "        region, \n",
    "        distance_to_existing_station\n",
    "    ]\n",
    "    X = np.hstack(features)\n",
    "    if is_train:\n",
    "        y = np.array(df[\"monthly_rent\"])\n",
    "        return X, y\n",
    "    else:\n",
    "        return X, None\n",
    "\n",
    "X, y = preprocess(df_train, is_train=True)\n",
    "X.shape, y.shape\n"
   ]
  },
  {
   "cell_type": "code",
   "execution_count": 5,
   "metadata": {},
   "outputs": [
    {
     "name": "stdout",
     "output_type": "stream",
     "text": [
      "N_Estimators:  64 MSE: 461.22310766599577\n"
     ]
    }
   ],
   "source": [
    "X_train, X_test, y_train, y_test = train_test_split(X, y, test_size=0.20, random_state=42)\n",
    "for i in range(64, 65, 16):\n",
    "    regressor = RandomForestRegressor(n_estimators = i, random_state = 0)\n",
    "    regressor.fit(X_train, y_train)\n",
    "    y_pred = regressor.predict(X_test)\n",
    "    print(\"N_Estimators: \", i, \"MSE:\", mean_absolute_error(y_pred, y_test))"
   ]
  },
  {
   "cell_type": "code",
   "execution_count": 6,
   "metadata": {},
   "outputs": [
    {
     "data": {
      "text/html": [
       "<style>#sk-container-id-1 {color: black;}#sk-container-id-1 pre{padding: 0;}#sk-container-id-1 div.sk-toggleable {background-color: white;}#sk-container-id-1 label.sk-toggleable__label {cursor: pointer;display: block;width: 100%;margin-bottom: 0;padding: 0.3em;box-sizing: border-box;text-align: center;}#sk-container-id-1 label.sk-toggleable__label-arrow:before {content: \"▸\";float: left;margin-right: 0.25em;color: #696969;}#sk-container-id-1 label.sk-toggleable__label-arrow:hover:before {color: black;}#sk-container-id-1 div.sk-estimator:hover label.sk-toggleable__label-arrow:before {color: black;}#sk-container-id-1 div.sk-toggleable__content {max-height: 0;max-width: 0;overflow: hidden;text-align: left;background-color: #f0f8ff;}#sk-container-id-1 div.sk-toggleable__content pre {margin: 0.2em;color: black;border-radius: 0.25em;background-color: #f0f8ff;}#sk-container-id-1 input.sk-toggleable__control:checked~div.sk-toggleable__content {max-height: 200px;max-width: 100%;overflow: auto;}#sk-container-id-1 input.sk-toggleable__control:checked~label.sk-toggleable__label-arrow:before {content: \"▾\";}#sk-container-id-1 div.sk-estimator input.sk-toggleable__control:checked~label.sk-toggleable__label {background-color: #d4ebff;}#sk-container-id-1 div.sk-label input.sk-toggleable__control:checked~label.sk-toggleable__label {background-color: #d4ebff;}#sk-container-id-1 input.sk-hidden--visually {border: 0;clip: rect(1px 1px 1px 1px);clip: rect(1px, 1px, 1px, 1px);height: 1px;margin: -1px;overflow: hidden;padding: 0;position: absolute;width: 1px;}#sk-container-id-1 div.sk-estimator {font-family: monospace;background-color: #f0f8ff;border: 1px dotted black;border-radius: 0.25em;box-sizing: border-box;margin-bottom: 0.5em;}#sk-container-id-1 div.sk-estimator:hover {background-color: #d4ebff;}#sk-container-id-1 div.sk-parallel-item::after {content: \"\";width: 100%;border-bottom: 1px solid gray;flex-grow: 1;}#sk-container-id-1 div.sk-label:hover label.sk-toggleable__label {background-color: #d4ebff;}#sk-container-id-1 div.sk-serial::before {content: \"\";position: absolute;border-left: 1px solid gray;box-sizing: border-box;top: 0;bottom: 0;left: 50%;z-index: 0;}#sk-container-id-1 div.sk-serial {display: flex;flex-direction: column;align-items: center;background-color: white;padding-right: 0.2em;padding-left: 0.2em;position: relative;}#sk-container-id-1 div.sk-item {position: relative;z-index: 1;}#sk-container-id-1 div.sk-parallel {display: flex;align-items: stretch;justify-content: center;background-color: white;position: relative;}#sk-container-id-1 div.sk-item::before, #sk-container-id-1 div.sk-parallel-item::before {content: \"\";position: absolute;border-left: 1px solid gray;box-sizing: border-box;top: 0;bottom: 0;left: 50%;z-index: -1;}#sk-container-id-1 div.sk-parallel-item {display: flex;flex-direction: column;z-index: 1;position: relative;background-color: white;}#sk-container-id-1 div.sk-parallel-item:first-child::after {align-self: flex-end;width: 50%;}#sk-container-id-1 div.sk-parallel-item:last-child::after {align-self: flex-start;width: 50%;}#sk-container-id-1 div.sk-parallel-item:only-child::after {width: 0;}#sk-container-id-1 div.sk-dashed-wrapped {border: 1px dashed gray;margin: 0 0.4em 0.5em 0.4em;box-sizing: border-box;padding-bottom: 0.4em;background-color: white;}#sk-container-id-1 div.sk-label label {font-family: monospace;font-weight: bold;display: inline-block;line-height: 1.2em;}#sk-container-id-1 div.sk-label-container {text-align: center;}#sk-container-id-1 div.sk-container {/* jupyter's `normalize.less` sets `[hidden] { display: none; }` but bootstrap.min.css set `[hidden] { display: none !important; }` so we also need the `!important` here to be able to override the default hidden behavior on the sphinx rendered scikit-learn.org. See: https://github.com/scikit-learn/scikit-learn/issues/21755 */display: inline-block !important;position: relative;}#sk-container-id-1 div.sk-text-repr-fallback {display: none;}</style><div id=\"sk-container-id-1\" class=\"sk-top-container\"><div class=\"sk-text-repr-fallback\"><pre>RandomForestRegressor(n_estimators=64, random_state=0)</pre><b>In a Jupyter environment, please rerun this cell to show the HTML representation or trust the notebook. <br />On GitHub, the HTML representation is unable to render, please try loading this page with nbviewer.org.</b></div><div class=\"sk-container\" hidden><div class=\"sk-item\"><div class=\"sk-estimator sk-toggleable\"><input class=\"sk-toggleable__control sk-hidden--visually\" id=\"sk-estimator-id-1\" type=\"checkbox\" checked><label for=\"sk-estimator-id-1\" class=\"sk-toggleable__label sk-toggleable__label-arrow\">RandomForestRegressor</label><div class=\"sk-toggleable__content\"><pre>RandomForestRegressor(n_estimators=64, random_state=0)</pre></div></div></div></div></div>"
      ],
      "text/plain": [
       "RandomForestRegressor(n_estimators=64, random_state=0)"
      ]
     },
     "execution_count": 6,
     "metadata": {},
     "output_type": "execute_result"
    }
   ],
   "source": [
    "regressor = RandomForestRegressor(n_estimators = 64, random_state = 0)\n",
    "regressor.fit(X, y)"
   ]
  },
  {
   "cell_type": "code",
   "execution_count": 7,
   "metadata": {},
   "outputs": [
    {
     "name": "stderr",
     "output_type": "stream",
     "text": [
      "100%|██████████| 30000/30000 [05:06<00:00, 98.03it/s]\n"
     ]
    },
    {
     "name": "stdout",
     "output_type": "stream",
     "text": [
      "(30000, 90)\n"
     ]
    }
   ],
   "source": [
    "df_test = pd.read_csv(\"test.csv\")\n",
    "\n",
    "X, y = preprocess(df_test, is_train=False)\n",
    "print(X.shape)\n",
    "y_pred = regressor.predict(X)\n",
    "df = pd.DataFrame({\n",
    "    \"Id\": [i for i in range(len(y_pred))],\n",
    "    \"Predicted\": y_pred,\n",
    "})\n",
    "df.to_csv(\"out.csv\", index=False, sep=\",\")"
   ]
  }
 ],
 "metadata": {
  "kernelspec": {
   "display_name": "nus",
   "language": "python",
   "name": "python3"
  },
  "language_info": {
   "codemirror_mode": {
    "name": "ipython",
    "version": 3
   },
   "file_extension": ".py",
   "mimetype": "text/x-python",
   "name": "python",
   "nbconvert_exporter": "python",
   "pygments_lexer": "ipython3",
   "version": "3.10.13"
  },
  "orig_nbformat": 4
 },
 "nbformat": 4,
 "nbformat_minor": 2
}
